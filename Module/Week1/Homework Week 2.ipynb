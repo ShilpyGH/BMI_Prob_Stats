{
 "cells": [
  {
   "cell_type": "markdown",
   "metadata": {},
   "source": [
    "## Homework"
   ]
  },
  {
   "cell_type": "markdown",
   "metadata": {},
   "source": [
    "### 1. History of Probability\n",
    "It is said that de Mere had been betting that, in four rolls of a die, at least one six would turn up. He was winning consistently and, to get more people to play, he changed the game to bet that, in 24 rolls of two dice, a pair of sixes would turn up. It is claimed that de Mere lost with 24 and felt that 25 rolls were necessary to make the game favorable. It was un grand scandale that mathematics was wrong."
   ]
  },
  {
   "cell_type": "code",
   "execution_count": null,
   "metadata": {
    "collapsed": true
   },
   "outputs": [],
   "source": [
    "#1. Write function to sample from die\n",
    "#2. Write loop or function to tally sucess vs failure (define sucess?)\n",
    "#3. Run 10000 trials\n",
    "#4. Calculate probabilities for 24 rolls and 25 rolls"
   ]
  },
  {
   "cell_type": "markdown",
   "metadata": {},
   "source": [
    "## 2. Addition rule\n",
    "\n",
    "#### Find the probabilities using the table\n",
    "\n",
    "\n",
    "> 1. Type O or AB.\n",
    "\n",
    "> 2. Type A or AB.\n",
    "\n",
    "> 3. Type AB or Rh negative. \n",
    "\n",
    "> 4. Type O and Negative. \n",
    "\n",
    "> 5. Type AB"
   ]
  },
  {
   "cell_type": "markdown",
   "metadata": {},
   "source": [
    "|Type     |O    |A    |B    |AB |Total |\n",
    "|:--------|:----|:----|:---------|:-------|:-----|\n",
    "|Positive |163  |662  |1513      |1603    |3941  |\n",
    "|Negative |224  |933  |2400      |2337    |5894  |\n",
    "|Total    |387  |1595 |3913      |3940    |9835  |\n"
   ]
  },
  {
   "cell_type": "markdown",
   "metadata": {},
   "source": [
    "### 3. Multiplication Rule\n",
    "\n",
    "##### From this exercises: If I roll 5 dice, what is the chance of getting all sixes? What is the chance of getting no sixes?\n",
    "\n",
    "Write a simulation in R to obtain the probabilities for each of these two exercises running 10000 trials\n",
    "\n",
    "Hint.\n",
    "\n",
    "Remember that the change to get all 6 in 5 rolls is $(1/6)^5$\n",
    "\n",
    "and to get no sixes is $(5/6)^5$\n"
   ]
  },
  {
   "cell_type": "code",
   "execution_count": null,
   "metadata": {
    "collapsed": true
   },
   "outputs": [],
   "source": [
    "#All sixes\n",
    "#1. Write function to sample from die\n",
    "#2. Write function to determine if in each 5 rolls we get all sixes (6*5) \n",
    "#3. Run 10000 trials - Hint check sapply function\n",
    "#4. Calculate probability\n",
    "\n",
    "#No sixes\n",
    "\n",
    "#1. Write function to sample from die - - Hint check sapply function -\n",
    "#2. Write function to determine if in each 5 rolls we get no sixes (6*5)\n",
    "#3. Run 10000 trials \n",
    "#4. Calculate probability\n"
   ]
  },
  {
   "cell_type": "markdown",
   "metadata": {},
   "source": [
    "### 4. Conditional Probability\n",
    "\n",
    "Consider a family that has three children. We are interested in the children's genders. Our sample space is S={(G,G,G),(G,G,B),(G,B,G),(G,B,B),(B,G,G),(B,G,B),(B,B,G),(B,B,B)}. Also assume that all eight possible outcomes are equally likely.\n",
    "\n",
    "1. What is the probability that the three children are girls given that the first child is a girl?\n",
    "\n",
    "2. What is the probability that At least two children are boys given that the first child is a boy?"
   ]
  },
  {
   "cell_type": "code",
   "execution_count": null,
   "metadata": {
    "collapsed": true
   },
   "outputs": [],
   "source": []
  }
 ],
 "metadata": {
  "kernelspec": {
   "display_name": "R",
   "language": "R",
   "name": "ir"
  },
  "language_info": {
   "codemirror_mode": "r",
   "file_extension": ".r",
   "mimetype": "text/x-r-source",
   "name": "R",
   "pygments_lexer": "r",
   "version": "3.3.2"
  }
 },
 "nbformat": 4,
 "nbformat_minor": 2
}
