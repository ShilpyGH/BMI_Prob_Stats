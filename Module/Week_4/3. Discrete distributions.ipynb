{
 "cells": [
  {
   "cell_type": "markdown",
   "metadata": {},
   "source": [
    "## Discrete Distributions\n",
    "\n",
    "In a random experiment we can have two types of events discrete or continuous, we will start by describing different types of discrete events. To describe this events we can use mathematical functions f(x), that gives us the different probabilities for each possible outcome in a trial or a number of trials.\n",
    "\n",
    "These functions for the discrete distributions are named Probability Mass Functions (PMF) - which is simply a list of probabilities of the outcomes (which can be represented graphically). This function has three properties\n",
    "\n",
    "\n",
    "\n",
    "1. P(X = x) = f(x) > 0 if x $\\in$ S\n",
    "\n",
    "\n",
    "2. $ \\sum_{x\\in S}f(x) = 1 $\n",
    "\n",
    "\n",
    "3. $ P(X \\in A) = \\sum_{x\\in S}f(x)$\n",
    "\n",
    "\n",
    "Property 3 means that to find the probability of any event A, you must sum the probabilities of the x values in A"
   ]
  },
  {
   "cell_type": "markdown",
   "metadata": {},
   "source": [
    "Example:\n",
    "\n",
    "In a class we count the number of siblings for each student. Lets define x as the number of siblings (a random variable) = {0,1,2,3}. We obtained this result\n",
    "\n",
    "PMF = \n",
    "\n",
    "\n",
    "|X      |0    |1    |2    |3    |\n",
    "|:------|:----|:----|:----|:----|\n",
    "|p(X)   |0.35 |0.40 |0.20 |0.05 |\n",
    "\n"
   ]
  },
  {
   "cell_type": "code",
   "execution_count": null,
   "metadata": {
    "collapsed": true
   },
   "outputs": [],
   "source": [
    "x = c(0.35,0.40,0.20,0.05)\n",
    "plot(0:3,x, type = 'h')"
   ]
  },
  {
   "cell_type": "markdown",
   "metadata": {},
   "source": [
    "Another way to represent discrete distributions is using a step function called Cumulative Distribution Function CDF.\n",
    "\n",
    "The CDF is formally defined as $F_x(t) = P(X \\leq t)$\n",
    "\n",
    "This is an important definition as it implies that the random variable is a function of t (which can be defined as the order of events - time).\n",
    "\n",
    "then \n",
    "\n",
    "$$F_x(t) = \\sum_{j = 1}^{t} p(x_j)$$"
   ]
  },
  {
   "cell_type": "code",
   "execution_count": null,
   "metadata": {
    "collapsed": true
   },
   "outputs": [],
   "source": [
    "cumsum(x)\n",
    "plot(cumsum(x),type = 's')"
   ]
  },
  {
   "cell_type": "code",
   "execution_count": null,
   "metadata": {
    "collapsed": true
   },
   "outputs": [],
   "source": []
  },
  {
   "cell_type": "markdown",
   "metadata": {},
   "source": [
    "#### Bernoulli Trial\n",
    "\n",
    "A Bernoulli trial is a random experiment with two outcomes. e.g. sucess/failure, yes/no, on/off, etc. in this experiment the probability of sucess or failure doesn't change from trial to trial\n",
    "\n",
    "\n",
    "## Bernoulli Distribution\n",
    "\n",
    "The Bernoulli distribution is the probability distribution of a random variable which takes the value 1 with probability p and the value 0 with probability q=1-p\n",
    "\n",
    "The distribution of heads and tails in coin tossing is an example of a Bernoulli distribution with p=q=1/2. The Bernoulli distribution is the simplest discrete distribution, and it the building block for other more complicated discrete distributions.\n",
    "\n",
    "$$\\mu = p$$\n",
    "\n",
    "$$\\sigma = p(1-p)$$"
   ]
  },
  {
   "cell_type": "markdown",
   "metadata": {},
   "source": [
    "---\n",
    "\n",
    "## Binomial Distribution"
   ]
  },
  {
   "cell_type": "markdown",
   "metadata": {},
   "source": [
    "Similar to the Bernoulli Distribution, the binomial distribution pertains to random experiments with two possible otucomes: Sucess (S) and Failure (F). Thus, For any random variable (X) we can assign x = 1 when sucess and x = 0 when failure.\n",
    "\n",
    "if p(s) = p then p(f) = 1-p\n",
    "\n",
    "the PMF of X for one trial is\n",
    "\n",
    "$$f_x(x) = p^x (1-p)^{1-x}$$\n",
    "\n",
    "The binomial model has three properties\n",
    "\n",
    "* It uses multiple Bernoulli trials (n times)\n",
    "* The trials are independent\n",
    "* P(s) states the same \n",
    "\n",
    "if X counts the number of sucesses in the n independet trials then the PMF of X is\n",
    "\n",
    "$$f_x(x) = {n \\choose x} p^x (1-p)^{n-x}$$ "
   ]
  },
  {
   "cell_type": "markdown",
   "metadata": {},
   "source": [
    "The mean of the distribution is\n",
    "$$\\mu = np$$\n",
    "\n",
    "The standard deviation of the distribution is\n",
    "\n",
    "$$\\sigma^2 = np(1-p)$$"
   ]
  },
  {
   "cell_type": "markdown",
   "metadata": {},
   "source": [
    "A four-child family. Each child may be either a boy (B) or a girl (G). For simplicity we suppose that P(B) = P(G) = 1=2 and that the genders of the children are determined independently. \n",
    "If we let X count the number of B’s, then X ~ binom(size = 4; prob = 1=2). \n",
    "\n"
   ]
  },
  {
   "cell_type": "code",
   "execution_count": null,
   "metadata": {
    "collapsed": true
   },
   "outputs": [],
   "source": [
    "##we can calculate the binomial probability of no having any boys in the family of four\n",
    "##in R using the function pbinom()\n",
    "\n",
    "dbinom(0,4,0.5)"
   ]
  },
  {
   "cell_type": "markdown",
   "metadata": {},
   "source": [
    "How about finding the probability of having two boys in a family of 4 Further, P(X = 2) is\n",
    "\n",
    "$$f_x(2) = {4 \\choose 2} \\frac{1}{2}^2 \\frac{1}{2}^{2} = \\frac{6}{2^4}$$ "
   ]
  },
  {
   "cell_type": "code",
   "execution_count": null,
   "metadata": {
    "collapsed": true,
    "scrolled": true
   },
   "outputs": [],
   "source": [
    "choose(4,2) #which calculates the combinations of two sucessess in four trials\n",
    "\n",
    "6/2^4 ##probability of having two boys in a family of 4\n",
    "\n",
    "dbinom(2,4,0.5)"
   ]
  },
  {
   "cell_type": "markdown",
   "metadata": {},
   "source": [
    "find $\\mu$ and $\\sigma$"
   ]
  },
  {
   "cell_type": "code",
   "execution_count": null,
   "metadata": {
    "collapsed": true
   },
   "outputs": [],
   "source": [
    "#lets plot PMF and CDF for this example\n",
    "\n",
    "two_boys_pmf <- dbinom(0:4, size = 4, prob = 0.5)\n",
    "plot(two_boys_pmf, type = \"h\", ylim= c(0,0.5))\n",
    "points(two_boys_pmf,pch=19)"
   ]
  },
  {
   "cell_type": "code",
   "execution_count": null,
   "metadata": {
    "collapsed": true
   },
   "outputs": [],
   "source": [
    "plot(1:5,cumsum(two_boys_pmf), type = 'l')\n",
    "#plot(1:5,cumsum(two_boys_pmf), type = 's')\n",
    "#plot(pbinom(0:5,4,0.5), type = 'l')"
   ]
  },
  {
   "cell_type": "code",
   "execution_count": null,
   "metadata": {
    "collapsed": true
   },
   "outputs": [],
   "source": []
  },
  {
   "cell_type": "markdown",
   "metadata": {},
   "source": [
    "Exercise:  the CDC estimates that 22% of adults in the U.S. smoke\n",
    "If we randomly sample 10 individuals from the US population, what is the probability that 5 individuals from the sample smoke?\n",
    "In this case smoke is the success and non smoke is the failure\n",
    "plot the PMF and CMF for this distribution?"
   ]
  },
  {
   "cell_type": "code",
   "execution_count": null,
   "metadata": {
    "collapsed": true
   },
   "outputs": [],
   "source": [
    "#dbinom(5,size=10,prob=.22)"
   ]
  },
  {
   "cell_type": "code",
   "execution_count": null,
   "metadata": {
    "collapsed": true
   },
   "outputs": [],
   "source": [
    "#plot(pbinom(0:10,10,.22), type = 'l')"
   ]
  },
  {
   "cell_type": "markdown",
   "metadata": {},
   "source": [
    "### Confidence intervals:\n",
    "\n",
    "In most cases obtaining a unique probability is not very reasonable, as we are dealing with random trials. It is better to supply this info using confidence intervals, normally we use 95% CF.\n",
    "\n",
    "In our previous example calculate the 95% that we obtain 5 smokers of our sample\n"
   ]
  },
  {
   "cell_type": "code",
   "execution_count": null,
   "metadata": {
    "collapsed": true
   },
   "outputs": [],
   "source": [
    "#Generate a sequency from 0 to 1 by 0.01 units\n",
    "se = seq(0,1,by = 0.01)\n",
    "\n",
    "#calculate all binomial probabilities at each initial probability\n",
    "a = dbinom(5,10,prob = se)\n",
    "\n",
    "#combine data\n",
    "#df = as.data.frame(cbind(se,a))\n",
    "#df"
   ]
  },
  {
   "cell_type": "code",
   "execution_count": null,
   "metadata": {
    "collapsed": true
   },
   "outputs": [],
   "source": [
    "plot(seq(0,1,by=0.01),a, type = 'l')\n",
    "abline(h = 0.05, xlim =c(0,1), col ='red')"
   ]
  },
  {
   "cell_type": "markdown",
   "metadata": {},
   "source": [
    "Obviously we can do it in R, in an easier manner"
   ]
  },
  {
   "cell_type": "code",
   "execution_count": null,
   "metadata": {
    "collapsed": true
   },
   "outputs": [],
   "source": [
    "#install.packages(\"binom\")\n",
    "library(binom)\n",
    "binom.confint(5, 10, conf.level = 0.95)"
   ]
  }
 ],
 "metadata": {
  "kernelspec": {
   "display_name": "R",
   "language": "R",
   "name": "ir"
  },
  "language_info": {
   "codemirror_mode": "r",
   "file_extension": ".r",
   "mimetype": "text/x-r-source",
   "name": "R",
   "pygments_lexer": "r",
   "version": "3.3.2"
  }
 },
 "nbformat": 4,
 "nbformat_minor": 2
}
